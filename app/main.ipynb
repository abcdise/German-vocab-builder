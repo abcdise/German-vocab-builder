{
 "cells": [
  {
   "cell_type": "code",
   "execution_count": null,
   "metadata": {},
   "outputs": [],
   "source": [
    "import json\n",
    "import csv\n",
    "import pyperclip\n",
    "import sys\n",
    "sys.path.insert(1, './scr')\n",
    "from PONS import PONS_writer, PONS_refiner, PONS_reader\n",
    "from toolbox import AnkiCardWriter\n",
    "\n",
    "def read_csv_to_list(file_path:str):\n",
    "    word_list = []\n",
    "    with open(file_path, 'r') as csv_file:\n",
    "        csv_reader = csv.reader(csv_file)\n",
    "        for row in csv_reader:\n",
    "            # Assuming each row contains only one word\n",
    "            word_list.append(row[0])\n",
    "    return word_list"
   ]
  },
  {
   "cell_type": "markdown",
   "metadata": {},
   "source": [
    "## Configuration"
   ]
  },
  {
   "cell_type": "code",
   "execution_count": null,
   "metadata": {},
   "outputs": [],
   "source": [
    "today = '20240426'\n",
    "\n",
    "words_to_look_up = read_csv_to_list('Begegnungen.csv')\n",
    "print(f'There are {len(words_to_look_up)} words.')"
   ]
  },
  {
   "cell_type": "markdown",
   "metadata": {},
   "source": [
    "## Add new words"
   ]
  },
  {
   "cell_type": "markdown",
   "metadata": {},
   "source": [
    "### Look up the words in the PONS dictionary and export the results"
   ]
  },
  {
   "cell_type": "code",
   "execution_count": null,
   "metadata": {},
   "outputs": [],
   "source": [
    "writer = PONS_writer()\n",
    "writer.look_up(word_list=words_to_look_up)"
   ]
  },
  {
   "cell_type": "markdown",
   "metadata": {},
   "source": [
    "### Generate the prompt to generate example sentences"
   ]
  },
  {
   "cell_type": "code",
   "execution_count": null,
   "metadata": {},
   "outputs": [],
   "source": [
    "start_idx = 11\n",
    "end_idx = 20\n",
    "words_to_refine = words_to_look_up[start_idx-1:end_idx]\n",
    "refiner = PONS_refiner()\n",
    "refiner.generate_eg_prompt(words_to_refine)"
   ]
  },
  {
   "cell_type": "markdown",
   "metadata": {},
   "source": [
    "### Paste the response with example sentences here and generate the prompt for a refined JSON file"
   ]
  },
  {
   "cell_type": "code",
   "execution_count": null,
   "metadata": {},
   "outputs": [],
   "source": [
    "ai_response_str_eg = pyperclip.paste()\n",
    "ai_response_dict_eg = json.loads(ai_response_str_eg)\n",
    "refiner.generate_def_prompt(word_list=words_to_refine, temp_dict=ai_response_dict_eg)"
   ]
  },
  {
   "cell_type": "markdown",
   "metadata": {},
   "source": [
    "### Paste the response with the refined JSON string here"
   ]
  },
  {
   "cell_type": "code",
   "execution_count": null,
   "metadata": {},
   "outputs": [],
   "source": [
    "ai_response_str_def = pyperclip.paste()\n",
    "ai_response_dict_def = json.loads(ai_response_str_def)\n",
    "refiner.import_refined_dict(ai_response_dict_def)\n",
    "refiner.finish_import()"
   ]
  },
  {
   "cell_type": "markdown",
   "metadata": {},
   "source": [
    "## Generate Anki cards"
   ]
  },
  {
   "cell_type": "code",
   "execution_count": null,
   "metadata": {},
   "outputs": [],
   "source": [
    "reader = PONS_reader(word_list=words_to_look_up)\n",
    "anki_writer = AnkiCardWriter(word_entry_list=reader.get_word_entry_list())\n",
    "anki_writer.write_cards(csv_path=f'{today}.csv')"
   ]
  }
 ],
 "metadata": {
  "kernelspec": {
   "display_name": ".venv",
   "language": "python",
   "name": "python3"
  },
  "language_info": {
   "codemirror_mode": {
    "name": "ipython",
    "version": 3
   },
   "file_extension": ".py",
   "mimetype": "text/x-python",
   "name": "python",
   "nbconvert_exporter": "python",
   "pygments_lexer": "ipython3",
   "version": "3.11.6"
  }
 },
 "nbformat": 4,
 "nbformat_minor": 2
}
