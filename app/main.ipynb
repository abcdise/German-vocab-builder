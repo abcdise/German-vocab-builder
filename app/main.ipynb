{
 "cells": [
  {
   "cell_type": "code",
   "execution_count": 1,
   "metadata": {},
   "outputs": [],
   "source": [
    "import sys\n",
    "sys.path.insert(1, '../scr')\n",
    "from DictionaryReader import PONSReader, PhraseReader\n",
    "from toolbox import AnkiCardWriter, Configurator"
   ]
  },
  {
   "cell_type": "markdown",
   "metadata": {},
   "source": [
    "### Initialisation"
   ]
  },
  {
   "cell_type": "code",
   "execution_count": 3,
   "metadata": {},
   "outputs": [
    {
     "name": "stdout",
     "output_type": "stream",
     "text": [
      "Congratulations! You have finished studying the list.\n"
     ]
    }
   ],
   "source": [
    "today = '20240520'\n",
    "category = 'Vocab Builder'\n",
    "words_to_learn = 30\n",
    "\n",
    "configurator = Configurator(f'../scr/config/{category}/config.json')\n",
    "word_list = configurator.get_n_words_to_learn(words_to_learn)"
   ]
  },
  {
   "cell_type": "markdown",
   "metadata": {},
   "source": [
    "### Configure the reader"
   ]
  },
  {
   "cell_type": "code",
   "execution_count": null,
   "metadata": {},
   "outputs": [],
   "source": [
    "reader = PONSReader(word_list=word_list)\n",
    "\n",
    "anki_writer = AnkiCardWriter(word_entry_list=reader.get_word_entry_list())\n",
    "anki_writer.write_cards(csv_path=f'Export/{category}_{today}.csv')"
   ]
  },
  {
   "cell_type": "code",
   "execution_count": null,
   "metadata": {},
   "outputs": [],
   "source": [
    "configurator.study_n_words(words_to_learn)"
   ]
  }
 ],
 "metadata": {
  "kernelspec": {
   "display_name": ".venv",
   "language": "python",
   "name": "python3"
  },
  "language_info": {
   "codemirror_mode": {
    "name": "ipython",
    "version": 3
   },
   "file_extension": ".py",
   "mimetype": "text/x-python",
   "name": "python",
   "nbconvert_exporter": "python",
   "pygments_lexer": "ipython3",
   "version": "3.12.1"
  }
 },
 "nbformat": 4,
 "nbformat_minor": 2
}
