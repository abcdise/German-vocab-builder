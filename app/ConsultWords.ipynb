{
 "cells": [
  {
   "cell_type": "code",
   "execution_count": 1,
   "metadata": {},
   "outputs": [],
   "source": [
    "import json\n",
    "import pyperclip\n",
    "import sys\n",
    "sys.path.insert(1, '../src/')\n",
    "# from PONS import PONS_writer, PONS_refiner\n",
    "from GermanDictionary import GermanDictionary\n",
    "from PhraseDictionary import PhraseDictionary\n"
   ]
  },
  {
   "cell_type": "markdown",
   "metadata": {},
   "source": [
    "### Add new words"
   ]
  },
  {
   "cell_type": "markdown",
   "metadata": {},
   "source": [
    "#### Look up the words in the PONS dictionary and export the results"
   ]
  },
  {
   "cell_type": "code",
   "execution_count": 2,
   "metadata": {},
   "outputs": [
    {
     "name": "stdout",
     "output_type": "stream",
     "text": [
      "==== Update successful ====\n"
     ]
    }
   ],
   "source": [
    "german_dict = GermanDictionary()\n",
    "german_dict.update_dict()\n"
   ]
  },
  {
   "cell_type": "markdown",
   "metadata": {},
   "source": [
    "### Add new phrases"
   ]
  },
  {
   "cell_type": "code",
   "execution_count": null,
   "metadata": {},
   "outputs": [],
   "source": [
    "start_index = 1\n",
    "end_index = 15\n",
    "\n",
    "dictionary = PhraseDictionary()\n",
    "dictionary.import_initial_JSON(json_path='phrase notes.json')\n",
    "dictionary.get_prompt(start_index=start_index-1, end_index=end_index)"
   ]
  },
  {
   "cell_type": "code",
   "execution_count": null,
   "metadata": {},
   "outputs": [],
   "source": [
    "dictionary_entry_text = pyperclip.paste()\n",
    "dictionary_entry = json.loads(dictionary_entry_text)\n",
    "dictionary.import_new_entries(new_dict=dictionary_entry)"
   ]
  }
 ],
 "metadata": {
  "kernelspec": {
   "display_name": ".venv",
   "language": "python",
   "name": "python3"
  },
  "language_info": {
   "codemirror_mode": {
    "name": "ipython",
    "version": 3
   },
   "file_extension": ".py",
   "mimetype": "text/x-python",
   "name": "python",
   "nbconvert_exporter": "python",
   "pygments_lexer": "ipython3",
   "version": "3.11.6"
  }
 },
 "nbformat": 4,
 "nbformat_minor": 2
}
