{
 "cells": [
  {
   "cell_type": "code",
   "execution_count": null,
   "metadata": {},
   "outputs": [],
   "source": [
    "import json\n",
    "import csv\n",
    "import pyperclip\n",
    "import sys\n",
    "sys.path.insert(1, '../src/')\n",
    "from PONS import PONS_writer, PONS_refiner\n",
    "from PhraseDictionary import PhraseDictionary\n",
    "\n",
    "def read_csv_to_list(file_path:str):\n",
    "    word_list = []\n",
    "    with open(file_path, 'r') as csv_file:\n",
    "        csv_reader = csv.reader(csv_file)\n",
    "        for row in csv_reader:\n",
    "            # Assuming each row contains only one word\n",
    "            word_list.append(row[0])\n",
    "    return word_list"
   ]
  },
  {
   "cell_type": "markdown",
   "metadata": {},
   "source": [
    "### Configuration"
   ]
  },
  {
   "cell_type": "code",
   "execution_count": null,
   "metadata": {},
   "outputs": [],
   "source": [
    "notes_path = 'vocab notes.csv'\n",
    "# notes_path = 'phrase notes.csv'"
   ]
  },
  {
   "cell_type": "markdown",
   "metadata": {},
   "source": [
    "### Add new words"
   ]
  },
  {
   "cell_type": "markdown",
   "metadata": {},
   "source": [
    "#### Look up the words in the PONS dictionary and export the results"
   ]
  },
  {
   "cell_type": "code",
   "execution_count": null,
   "metadata": {},
   "outputs": [],
   "source": [
    "with open('../src/config/German - Vocab Builder/config.json', 'r') as config_file:\n",
    "    config = json.load(config_file)\n",
    "\n",
    "words_to_look_up = config['all']\n",
    "words_to_look_up"
   ]
  },
  {
   "cell_type": "code",
   "execution_count": null,
   "metadata": {},
   "outputs": [],
   "source": [
    "words_to_look_up = read_csv_to_list(notes_path)\n",
    "print(f'There are {len(words_to_look_up)} words.')\n",
    "writer = PONS_writer()\n",
    "writer.look_up(word_list=words_to_look_up)"
   ]
  },
  {
   "cell_type": "markdown",
   "metadata": {},
   "source": [
    "#### Generate the prompt to generate example sentences"
   ]
  },
  {
   "cell_type": "code",
   "execution_count": null,
   "metadata": {},
   "outputs": [],
   "source": [
    "start_idx = 1\n",
    "end_idx = 10\n",
    "words_to_refine = words_to_look_up[start_idx-1:end_idx]\n",
    "refiner = PONS_refiner()\n",
    "refiner.generate_eg_prompt(words_to_refine)"
   ]
  },
  {
   "cell_type": "markdown",
   "metadata": {},
   "source": [
    "#### Paste the response with example sentences here and generate the prompt for a refined JSON file"
   ]
  },
  {
   "cell_type": "code",
   "execution_count": null,
   "metadata": {},
   "outputs": [],
   "source": [
    "ai_response_str_eg = pyperclip.paste()\n",
    "ai_response_dict_eg = json.loads(ai_response_str_eg)\n",
    "refiner.generate_def_prompt(word_list=words_to_refine, temp_dict=ai_response_dict_eg)"
   ]
  },
  {
   "cell_type": "markdown",
   "metadata": {},
   "source": [
    "#### Paste the response with the refined JSON string here"
   ]
  },
  {
   "cell_type": "code",
   "execution_count": null,
   "metadata": {},
   "outputs": [],
   "source": [
    "ai_response_str_def = pyperclip.paste()\n",
    "ai_response_dict_def = json.loads(ai_response_str_def)\n",
    "refiner.import_refined_dict(ai_response_dict_def)\n",
    "refiner.finish_import()"
   ]
  },
  {
   "cell_type": "markdown",
   "metadata": {},
   "source": [
    "## Add new phrases"
   ]
  },
  {
   "cell_type": "code",
   "execution_count": null,
   "metadata": {},
   "outputs": [],
   "source": [
    "start_index = 1\n",
    "end_index = 15\n",
    "\n",
    "dictionary = PhraseDictionary()\n",
    "dictionary.import_initial_JSON(json_path=notes_path)\n",
    "dictionary.get_prompt(start_index=start_index-1, end_index=end_index)"
   ]
  },
  {
   "cell_type": "code",
   "execution_count": null,
   "metadata": {},
   "outputs": [],
   "source": [
    "dictionary_entry_text = pyperclip.paste()\n",
    "dictionary_entry = json.loads(dictionary_entry_text)\n",
    "dictionary.import_new_entries(new_dict=dictionary_entry)"
   ]
  }
 ],
 "metadata": {
  "kernelspec": {
   "display_name": ".venv",
   "language": "python",
   "name": "python3"
  },
  "language_info": {
   "codemirror_mode": {
    "name": "ipython",
    "version": 3
   },
   "file_extension": ".py",
   "mimetype": "text/x-python",
   "name": "python",
   "nbconvert_exporter": "python",
   "pygments_lexer": "ipython3",
   "version": "3.11.6"
  }
 },
 "nbformat": 4,
 "nbformat_minor": 2
}
