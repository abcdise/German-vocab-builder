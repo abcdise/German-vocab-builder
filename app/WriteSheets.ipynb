{
 "cells": [
  {
   "cell_type": "code",
   "execution_count": 1,
   "metadata": {},
   "outputs": [],
   "source": [
    "import sys\n",
    "sys.path.insert(1, '../src/')\n",
    "from DictionaryReader import GermanWordReader, GermanPhraseReader\n",
    "from toolbox import Configurator, AnkiCommunicator, AnkiCardWriter\n",
    "from ExerciseWriter import ExerciseWriter\n",
    "from Exercise import ExerciseFactory, ExerciseGatherer, ExampleSentences\n",
    "from pathlib import Path\n",
    "import shutil\n",
    "import pyperclip\n",
    "import json\n",
    "\n",
    "def copy_folder(source_folder, destination_folder) -> None:\n",
    "    destination_path = Path(destination_folder)\n",
    "    source_path = Path(source_folder)\n",
    "    if not destination_path.exists():\n",
    "        shutil.copytree(source_path, destination_path)"
   ]
  },
  {
   "cell_type": "markdown",
   "metadata": {},
   "source": [
    "### Initialisation"
   ]
  },
  {
   "cell_type": "code",
   "execution_count": 2,
   "metadata": {},
   "outputs": [],
   "source": [
    "# User inputs\n",
    "date = 20010101\n",
    "\n",
    "\n",
    "# Make a new folder\n",
    "template_folder = '../src/resources/Templates'\n",
    "export_folder = f'./Exports/{date}'\n",
    "copy_folder(template_folder, export_folder)\n",
    "\n",
    "def_template_path = '/Definition/template.tex'\n",
    "gap_filling_template_path = '/Fill-in-the-gap/template.tex'\n",
    "dialogue_template_path = '/Dialogue/template.tex'\n",
    "\n",
    "def_output_folder = export_folder + '/Definition'\n",
    "gap_filling_output_folder = export_folder + '/Fill-in-the-gap'\n",
    "dialogue_output_folder = export_folder + '/Dialogue'\n",
    "\n",
    "factory = ExerciseFactory()\n",
    "def_gatherer = ExerciseGatherer()\n",
    "def_writer = ExerciseWriter(gatherer=def_gatherer, template_path=def_template_path, output_folder=def_output_folder)\n",
    "gap_filling_gatherer = ExerciseGatherer()\n",
    "gap_filling_exercise_writer = ExerciseWriter(gatherer=gap_filling_gatherer, template_path=gap_filling_template_path, output_folder=gap_filling_output_folder)\n",
    "dialogue_gatherer = ExerciseGatherer()\n",
    "dialogue_exercise_writer = ExerciseWriter(gatherer=dialogue_gatherer, template_path=dialogue_template_path, output_folder=dialogue_output_folder)"
   ]
  },
  {
   "cell_type": "markdown",
   "metadata": {},
   "source": [
    "### Configuration for Vokabelbox"
   ]
  },
  {
   "cell_type": "code",
   "execution_count": 3,
   "metadata": {},
   "outputs": [
    {
     "name": "stdout",
     "output_type": "stream",
     "text": [
      "Congratulations! You have finished studying the list.\n",
      "Go to Anki and import the cards from the file Anki Cards.csv\n",
      "Congratulations! You have finished studying the list.\n"
     ]
    }
   ],
   "source": [
    "category = 'Vokabelbox'\n",
    "num_of_words_to_learn = 10\n",
    "\n",
    "configurator = Configurator(json_path=f'../src/config/{category}/config.json')\n",
    "\n",
    "\n",
    "tomorrow_new = configurator.get_n_words_to_learn(num_of_words_to_learn)\n",
    "reader = GermanWordReader(word_list=tomorrow_new)\n",
    "entry_list = reader.get_word_entry_list()\n",
    "writer = AnkiCardWriter(word_entry_list=reader.get_word_entry_list())\n",
    "Path(f'Exports/{date}_{category}').mkdir(parents=True, exist_ok=True)\n",
    "writer.write_cards(csv_path=f'Exports/{category}_{date}.csv')\n",
    "print('Go to Anki and import the cards from the file Anki Cards.csv')\n",
    "configurator.study_n_words(num_of_words_to_learn)"
   ]
  },
  {
   "cell_type": "code",
   "execution_count": 4,
   "metadata": {},
   "outputs": [
    {
     "name": "stdout",
     "output_type": "stream",
     "text": [
      "\n",
      "Number of new words: 0;\n",
      "Number of old words: 0.\n",
      "\n"
     ]
    }
   ],
   "source": [
    "anki = AnkiCommunicator()\n",
    "tomorrow_new_with_def = reader.get_concise_dictionary()\n",
    "tomorrow_review_with_def = anki.get_words_for_tomorrow(deck_name=category)\n",
    "tomorrow_review = list(tomorrow_review_with_def.keys())\n",
    "print(f'''\n",
    "Number of new words: {len(tomorrow_new)};\n",
    "Number of old words: {len(tomorrow_review)}.\n",
    "''')"
   ]
  },
  {
   "cell_type": "markdown",
   "metadata": {},
   "source": [
    "### Definition"
   ]
  },
  {
   "cell_type": "markdown",
   "metadata": {},
   "source": [
    "#### Set the word list and the set index here"
   ]
  },
  {
   "cell_type": "code",
   "execution_count": null,
   "metadata": {},
   "outputs": [],
   "source": [
    "def_start_idx = 1\n",
    "def_end_idx = 20\n",
    "def_set_index = 1\n",
    "\n",
    "def_word_list = tomorrow_new[def_start_idx-1:def_end_idx]\n",
    "definitions_set = factory.create_exercise(exercise_type='Definition', word_list=def_word_list)\n",
    "definitions_set.import_definition_from_dictionary()\n",
    "definitions_set.finish_import()\n",
    "def_gatherer.import_exercise(definitions_set)\n",
    "def_writer.render_template(set_index=def_set_index)"
   ]
  },
  {
   "cell_type": "markdown",
   "metadata": {},
   "source": [
    "### Vocabulary Exercises"
   ]
  },
  {
   "cell_type": "markdown",
   "metadata": {},
   "source": [
    "#### Set the word list here and get the prompt to create example sentences"
   ]
  },
  {
   "cell_type": "code",
   "execution_count": 5,
   "metadata": {},
   "outputs": [],
   "source": [
    "vocab_start_idx = 1\n",
    "vocab_end_idx = 10\n",
    "repetition = 'three'\n",
    "\n",
    "vocab_word_list = tomorrow_new[vocab_start_idx-1:vocab_end_idx]\n",
    "# vocab_word_list = tomorrow_review[vocab_start_idx-1:vocab_end_idx]\n",
    "\n",
    "example_sentences = ExampleSentences(vocab_word_list)\n",
    "example_sentences.create_prompt(number_of_sentences=repetition)\n",
    "example_sentences.get_prompt()"
   ]
  },
  {
   "cell_type": "markdown",
   "metadata": {},
   "source": [
    "#### Paste the example sentences here"
   ]
  },
  {
   "cell_type": "code",
   "execution_count": null,
   "metadata": {},
   "outputs": [],
   "source": [
    "sentences = pyperclip.paste()\n",
    "example_sentences.import_sentences(text=sentences)\n",
    "example_sentences.finish_import()"
   ]
  },
  {
   "cell_type": "markdown",
   "metadata": {},
   "source": [
    "##### Enter the set index here"
   ]
  },
  {
   "cell_type": "code",
   "execution_count": null,
   "metadata": {},
   "outputs": [],
   "source": [
    "gap_filling_set_index = 1\n",
    "\n",
    "gap_filling_exercise = factory.create_exercise(exercise_type='Fill in the gap', word_list=example_sentences.word_list, example_sentences=example_sentences)\n",
    "gap_filling_exercise.finish_import()\n",
    "gap_filling_gatherer.import_exercise(exercise=gap_filling_exercise)\n",
    "gap_filling_exercise_writer.render_template(set_index=gap_filling_set_index)"
   ]
  },
  {
   "cell_type": "markdown",
   "metadata": {},
   "source": [
    "### Dialogue"
   ]
  },
  {
   "cell_type": "markdown",
   "metadata": {},
   "source": [
    "#### Enter the set index here"
   ]
  },
  {
   "cell_type": "code",
   "execution_count": null,
   "metadata": {},
   "outputs": [],
   "source": [
    "dialogue_start_idx = 1\n",
    "dialogue_end_idx = 11\n",
    "dialogue_set_index = 1\n",
    "\n",
    "dialogue_word_list = tomorrow_new[dialogue_start_idx-1:dialogue_end_idx]\n",
    "# dialogue_word_list = tomorrow_review[dialogue_start_idx-1:dialogue_end_idx]\n",
    "dialogue_exercise = factory.create_exercise(exercise_type='Dialogue', word_list=dialogue_word_list)\n",
    "dialogue_exercise.get_prompt()"
   ]
  },
  {
   "cell_type": "code",
   "execution_count": null,
   "metadata": {},
   "outputs": [],
   "source": [
    "dialogue_dict_text = pyperclip.paste()\n",
    "dialogue_dict = json.loads(dialogue_dict_text)\n",
    "dialogue_exercise.generate_exercise(dialogue_dict=dialogue_dict)\n",
    "dialogue_exercise.finish_import()\n",
    "dialogue_gatherer.import_exercise(exercise=dialogue_exercise)\n",
    "dialogue_exercise_writer.render_template(set_index=dialogue_set_index)"
   ]
  },
  {
   "cell_type": "markdown",
   "metadata": {},
   "source": [
    "### Configure the reader"
   ]
  },
  {
   "cell_type": "code",
   "execution_count": null,
   "metadata": {},
   "outputs": [],
   "source": [
    "\n",
    "# reader = PhraseReader(word_list=tomorrow_new)\n"
   ]
  },
  {
   "cell_type": "code",
   "execution_count": null,
   "metadata": {},
   "outputs": [],
   "source": []
  }
 ],
 "metadata": {
  "kernelspec": {
   "display_name": ".venv",
   "language": "python",
   "name": "python3"
  },
  "language_info": {
   "codemirror_mode": {
    "name": "ipython",
    "version": 3
   },
   "file_extension": ".py",
   "mimetype": "text/x-python",
   "name": "python",
   "nbconvert_exporter": "python",
   "pygments_lexer": "ipython3",
   "version": "3.11.6"
  }
 },
 "nbformat": 4,
 "nbformat_minor": 2
}
