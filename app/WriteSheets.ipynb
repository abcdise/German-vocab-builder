{
 "cells": [
  {
   "cell_type": "code",
   "execution_count": 1,
   "metadata": {},
   "outputs": [],
   "source": [
    "import sys\n",
    "sys.path.insert(1, '../scr')\n",
    "from DictionaryReader import PONSReader, PhraseReader\n",
    "from toolbox import Configurator, AnkiCommunicator, AnkiCardWriter\n",
    "from ExerciseWriter import ExerciseWriter\n",
    "from Exercise import ExerciseFactory, ExerciseGatherer, ExampleSentences\n",
    "from pathlib import Path\n",
    "import shutil\n",
    "import pyperclip\n",
    "import json\n",
    "\n",
    "def copy_folder(source_folder, destination_folder) -> None:\n",
    "    destination_path = Path(destination_folder)\n",
    "    source_path = Path(source_folder)\n",
    "    if not destination_path.exists():\n",
    "        shutil.copytree(source_path, destination_path)"
   ]
  },
  {
   "cell_type": "markdown",
   "metadata": {},
   "source": [
    "### Initialisation"
   ]
  },
  {
   "cell_type": "code",
   "execution_count": 2,
   "metadata": {},
   "outputs": [],
   "source": [
    "# User inputs\n",
    "date = 20240602\n",
    "\n",
    "\n",
    "# Make a new folder\n",
    "template_folder = '../scr/resources/Templates'\n",
    "export_folder = f'./Exports/{date}'\n",
    "copy_folder(template_folder, export_folder)\n",
    "\n",
    "def_template_path = '/Definition/template.tex'\n",
    "gap_filling_template_path = '/Fill-in-the-gap/template.tex'\n",
    "dialogue_template_path = '/Dialogue/template.tex'\n",
    "\n",
    "def_output_folder = export_folder + '/Definition'\n",
    "gap_filling_output_folder = export_folder + '/Fill-in-the-gap'\n",
    "dialogue_output_folder = export_folder + '/Dialogue'\n",
    "\n",
    "factory = ExerciseFactory()\n",
    "def_gatherer = ExerciseGatherer()\n",
    "def_writer = ExerciseWriter(gatherer=def_gatherer, template_path=def_template_path, output_folder=def_output_folder)\n",
    "gap_filling_gatherer = ExerciseGatherer()\n",
    "gap_filling_exercise_writer = ExerciseWriter(gatherer=gap_filling_gatherer, template_path=gap_filling_template_path, output_folder=gap_filling_output_folder)\n",
    "dialogue_gatherer = ExerciseGatherer()\n",
    "dialogue_exercise_writer = ExerciseWriter(gatherer=dialogue_gatherer, template_path=dialogue_template_path, output_folder=dialogue_output_folder)"
   ]
  },
  {
   "cell_type": "code",
   "execution_count": 6,
   "metadata": {},
   "outputs": [
    {
     "name": "stdout",
     "output_type": "stream",
     "text": [
      "\n",
      "Number of all words: 10;\n",
      "Number of new words: 10;\n",
      "Number of old words: 0.\n",
      "\n"
     ]
    }
   ],
   "source": [
    "category = 'German - Vocab Builder'\n",
    "# category = 'Everyday German'\n",
    "num_of_words_to_learn = 10\n",
    "\n",
    "configurator = Configurator(json_path=f'../scr/config/{category}/config.json')\n",
    "\n",
    "tmp_dict = dict()\n",
    "with open('tmp.json', 'w') as file:\n",
    "    json.dump(tmp_dict, file)\n",
    "\n",
    "# Get the words to learn and review for tomorrow\n",
    "tomorrow_new = configurator.get_n_words_to_learn(num_of_words_to_learn)\n",
    "tmp_dict['tomorrow new'] = tomorrow_new\n",
    "\n",
    "anki = AnkiCommunicator()\n",
    "tomorrow_review = anki.get_words_for_tomorrow(deck_name=category, item='Front')\n",
    "tmp_dict['tomorrow review'] = tomorrow_review\n",
    "\n",
    "\n",
    "tomorrow_all = tomorrow_new + tomorrow_review\n",
    "print(f'''\n",
    "Number of all words: {len(tomorrow_all)};\n",
    "Number of new words: {len(tomorrow_new)};\n",
    "Number of old words: {len(tomorrow_review)}.\n",
    "''')\n",
    "with open('tmp.json', 'w') as file:\n",
    "    json.dump(tmp_dict, file, indent=4, ensure_ascii=False)"
   ]
  },
  {
   "cell_type": "markdown",
   "metadata": {},
   "source": [
    "### Definition"
   ]
  },
  {
   "cell_type": "markdown",
   "metadata": {},
   "source": [
    "#### Set the word list and the set index here and get the prompt to create definitions"
   ]
  },
  {
   "cell_type": "code",
   "execution_count": 7,
   "metadata": {},
   "outputs": [
    {
     "name": "stdout",
     "output_type": "stream",
     "text": [
      "The word Gemälde does not exist in the dictionary.\n",
      "The word föhnen does not exist in the dictionary.\n",
      "The word Tagesablauf does not exist in the dictionary.\n",
      "The word Staatsdienst does not exist in the dictionary.\n",
      "The word bewundern does not exist in the dictionary.\n",
      "The word Wirtschaftszweig does not exist in the dictionary.\n",
      "The word Betrieb does not exist in the dictionary.\n",
      "The word verwöhnen does not exist in the dictionary.\n",
      "The word Skulptur does not exist in the dictionary.\n",
      "The word Trompete does not exist in the dictionary.\n"
     ]
    }
   ],
   "source": [
    "def_start_idx = 1\n",
    "def_end_idx = 10\n",
    "def_set_index = 1\n",
    "\n",
    "def_word_list = tomorrow_new[def_start_idx-1:def_end_idx]\n",
    "definitions_set = factory.create_exercise(exercise_type='Definition', word_list=def_word_list)\n",
    "definitions_set.import_definition_from_dictionary()\n",
    "definitions_set.finish_import()\n",
    "def_gatherer.import_exercise(definitions_set)\n",
    "def_writer.render_template(set_index=def_set_index)"
   ]
  },
  {
   "cell_type": "markdown",
   "metadata": {},
   "source": [
    "### Vocabulary Exercises"
   ]
  },
  {
   "cell_type": "markdown",
   "metadata": {},
   "source": [
    "#### Set the word list here and get the prompt to create example sentences"
   ]
  },
  {
   "cell_type": "code",
   "execution_count": null,
   "metadata": {},
   "outputs": [],
   "source": [
    "vocab_start_idx = 16\n",
    "vocab_end_idx = 35\n",
    "repetition = 'two'\n",
    "\n",
    "# vocab_word_list = tomorrow_new[vocab_start_idx-1:vocab_end_idx]\n",
    "vocab_word_list = tomorrow_review[vocab_start_idx-1:vocab_end_idx]\n",
    "\n",
    "example_sentences = ExampleSentences(vocab_word_list)\n",
    "example_sentences.create_prompt(number_of_sentences=repetition)\n",
    "example_sentences.get_prompt()"
   ]
  },
  {
   "cell_type": "markdown",
   "metadata": {},
   "source": [
    "#### Paste the example sentences here"
   ]
  },
  {
   "cell_type": "code",
   "execution_count": null,
   "metadata": {},
   "outputs": [],
   "source": [
    "sentences = pyperclip.paste()\n",
    "example_sentences.import_sentences(text=sentences)\n",
    "example_sentences.finish_import()"
   ]
  },
  {
   "cell_type": "markdown",
   "metadata": {},
   "source": [
    "##### Enter the set index here"
   ]
  },
  {
   "cell_type": "code",
   "execution_count": null,
   "metadata": {},
   "outputs": [],
   "source": [
    "gap_filling_set_index = 4\n",
    "\n",
    "gap_filling_exercise = factory.create_exercise(exercise_type='Fill in the gap', word_list=example_sentences.word_list, example_sentences=example_sentences)\n",
    "gap_filling_exercise.finish_import()\n",
    "gap_filling_gatherer.import_exercise(exercise=gap_filling_exercise)\n",
    "gap_filling_exercise_writer.render_template(set_index=gap_filling_set_index)"
   ]
  },
  {
   "cell_type": "markdown",
   "metadata": {},
   "source": [
    "### Configure the reader"
   ]
  },
  {
   "cell_type": "code",
   "execution_count": null,
   "metadata": {},
   "outputs": [],
   "source": [
    "reader = PONSReader(word_list=tomorrow_new)\n",
    "# reader = PhraseReader(word_list=tomorrow_new)\n",
    "\n",
    "anki_writer = AnkiCardWriter(word_entry_list=reader.get_word_entry_list())\n",
    "anki_writer.write_cards(csv_path=f'Exports/{category}_{date}.csv')"
   ]
  },
  {
   "cell_type": "code",
   "execution_count": null,
   "metadata": {},
   "outputs": [],
   "source": [
    "configurator.study_n_words(num_of_words_to_learn)"
   ]
  }
 ],
 "metadata": {
  "kernelspec": {
   "display_name": ".venv",
   "language": "python",
   "name": "python3"
  },
  "language_info": {
   "codemirror_mode": {
    "name": "ipython",
    "version": 3
   },
   "file_extension": ".py",
   "mimetype": "text/x-python",
   "name": "python",
   "nbconvert_exporter": "python",
   "pygments_lexer": "ipython3",
   "version": "3.11.6"
  }
 },
 "nbformat": 4,
 "nbformat_minor": 2
}
